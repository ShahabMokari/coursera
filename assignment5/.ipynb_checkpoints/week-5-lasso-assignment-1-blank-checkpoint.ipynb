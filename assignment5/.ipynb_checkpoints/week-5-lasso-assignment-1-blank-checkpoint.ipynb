{
 "cells": [
  {
   "cell_type": "markdown",
   "metadata": {},
   "source": [
    "# Regression Week 5: Feature Selection and LASSO (Interpretation)"
   ]
  },
  {
   "cell_type": "markdown",
   "metadata": {},
   "source": [
    "In this notebook, you will use LASSO to select features, building on a pre-implemented solver for LASSO (using GraphLab Create, though you can use other solvers). You will:\n",
    "* Run LASSO with different L1 penalties.\n",
    "* Choose best L1 penalty using a validation set.\n",
    "* Choose best L1 penalty using a validation set, with additional constraint on the size of subset.\n",
    "\n",
    "In the second notebook, you will implement your own LASSO solver, using coordinate descent. "
   ]
  },
  {
   "cell_type": "markdown",
   "metadata": {},
   "source": [
    "# Fire up graphlab create"
   ]
  },
  {
   "cell_type": "code",
   "execution_count": 1,
   "metadata": {
    "collapsed": false
   },
   "outputs": [
    {
     "name": "stderr",
     "output_type": "stream",
     "text": [
      "A newer version of GraphLab Create (v2.1) is available! Your current version is v2.0.1.\n",
      "You can use pip to upgrade the graphlab-create package. For more information see https://turi.com/products/create/upgrade.\n"
     ]
    }
   ],
   "source": [
    "import graphlab"
   ]
  },
  {
   "cell_type": "markdown",
   "metadata": {},
   "source": [
    "# Load in house sales data\n",
    "\n",
    "Dataset is from house sales in King County, the region where the city of Seattle, WA is located."
   ]
  },
  {
   "cell_type": "code",
   "execution_count": 2,
   "metadata": {
    "collapsed": false,
    "scrolled": true
   },
   "outputs": [
    {
     "name": "stderr",
     "output_type": "stream",
     "text": [
      "[INFO] graphlab.cython.cy_server: GraphLab Create v2.0.1 started. Logging: /tmp/graphlab_server_1469971714.log\n"
     ]
    },
    {
     "name": "stdout",
     "output_type": "stream",
     "text": [
      "This non-commercial license of GraphLab Create for academic use is assigned to shahabm@kth.se and will expire on April 23, 2017.\n"
     ]
    }
   ],
   "source": [
    "sales = graphlab.SFrame('kc_house_data.gl/')"
   ]
  },
  {
   "cell_type": "markdown",
   "metadata": {},
   "source": [
    "# Create new features"
   ]
  },
  {
   "cell_type": "markdown",
   "metadata": {},
   "source": [
    "As in Week 2, we consider features that are some transformations of inputs."
   ]
  },
  {
   "cell_type": "code",
   "execution_count": 3,
   "metadata": {
    "collapsed": true
   },
   "outputs": [],
   "source": [
    "from math import log, sqrt\n",
    "sales['sqft_living_sqrt'] = sales['sqft_living'].apply(sqrt)\n",
    "sales['sqft_lot_sqrt'] = sales['sqft_lot'].apply(sqrt)\n",
    "sales['bedrooms_square'] = sales['bedrooms']*sales['bedrooms']\n",
    "\n",
    "# In the dataset, 'floors' was defined with type string, \n",
    "# so we'll convert them to float, before creating a new feature.\n",
    "sales['floors'] = sales['floors'].astype(float) \n",
    "sales['floors_square'] = sales['floors']*sales['floors']"
   ]
  },
  {
   "cell_type": "markdown",
   "metadata": {},
   "source": [
    "* Squaring bedrooms will increase the separation between not many bedrooms (e.g. 1) and lots of bedrooms (e.g. 4) since 1^2 = 1 but 4^2 = 16. Consequently this variable will mostly affect houses with many bedrooms.\n",
    "* On the other hand, taking square root of sqft_living will decrease the separation between big house and small house. The owner may not be exactly twice as happy for getting a house that is twice as big."
   ]
  },
  {
   "cell_type": "markdown",
   "metadata": {},
   "source": [
    "# Learn regression weights with L1 penalty"
   ]
  },
  {
   "cell_type": "markdown",
   "metadata": {},
   "source": [
    "Let us fit a model with all the features available, plus the features we just created above."
   ]
  },
  {
   "cell_type": "code",
   "execution_count": 4,
   "metadata": {
    "collapsed": false
   },
   "outputs": [],
   "source": [
    "all_features = ['bedrooms', 'bedrooms_square',\n",
    "            'bathrooms',\n",
    "            'sqft_living', 'sqft_living_sqrt',\n",
    "            'sqft_lot', 'sqft_lot_sqrt',\n",
    "            'floors', 'floors_square',\n",
    "            'waterfront', 'view', 'condition', 'grade',\n",
    "            'sqft_above',\n",
    "            'sqft_basement',\n",
    "            'yr_built', 'yr_renovated']"
   ]
  },
  {
   "cell_type": "markdown",
   "metadata": {},
   "source": [
    "Applying L1 penalty requires adding an extra parameter (`l1_penalty`) to the linear regression call in GraphLab Create. (Other tools may have separate implementations of LASSO.)  Note that it's important to set `l2_penalty=0` to ensure we don't introduce an additional L2 penalty."
   ]
  },
  {
   "cell_type": "code",
   "execution_count": 5,
   "metadata": {
    "collapsed": false
   },
   "outputs": [
    {
     "data": {
      "text/html": [
       "<pre>Linear regression:</pre>"
      ],
      "text/plain": [
       "Linear regression:"
      ]
     },
     "metadata": {},
     "output_type": "display_data"
    },
    {
     "data": {
      "text/html": [
       "<pre>--------------------------------------------------------</pre>"
      ],
      "text/plain": [
       "--------------------------------------------------------"
      ]
     },
     "metadata": {},
     "output_type": "display_data"
    },
    {
     "data": {
      "text/html": [
       "<pre>Number of examples          : 21613</pre>"
      ],
      "text/plain": [
       "Number of examples          : 21613"
      ]
     },
     "metadata": {},
     "output_type": "display_data"
    },
    {
     "data": {
      "text/html": [
       "<pre>Number of features          : 17</pre>"
      ],
      "text/plain": [
       "Number of features          : 17"
      ]
     },
     "metadata": {},
     "output_type": "display_data"
    },
    {
     "data": {
      "text/html": [
       "<pre>Number of unpacked features : 17</pre>"
      ],
      "text/plain": [
       "Number of unpacked features : 17"
      ]
     },
     "metadata": {},
     "output_type": "display_data"
    },
    {
     "data": {
      "text/html": [
       "<pre>Number of coefficients    : 18</pre>"
      ],
      "text/plain": [
       "Number of coefficients    : 18"
      ]
     },
     "metadata": {},
     "output_type": "display_data"
    },
    {
     "data": {
      "text/html": [
       "<pre>Starting Accelerated Gradient (FISTA)</pre>"
      ],
      "text/plain": [
       "Starting Accelerated Gradient (FISTA)"
      ]
     },
     "metadata": {},
     "output_type": "display_data"
    },
    {
     "data": {
      "text/html": [
       "<pre>--------------------------------------------------------</pre>"
      ],
      "text/plain": [
       "--------------------------------------------------------"
      ]
     },
     "metadata": {},
     "output_type": "display_data"
    },
    {
     "data": {
      "text/html": [
       "<pre>+-----------+----------+-----------+--------------+--------------------+---------------+</pre>"
      ],
      "text/plain": [
       "+-----------+----------+-----------+--------------+--------------------+---------------+"
      ]
     },
     "metadata": {},
     "output_type": "display_data"
    },
    {
     "data": {
      "text/html": [
       "<pre>| Iteration | Passes   | Step size | Elapsed Time | Training-max_error | Training-rmse |</pre>"
      ],
      "text/plain": [
       "| Iteration | Passes   | Step size | Elapsed Time | Training-max_error | Training-rmse |"
      ]
     },
     "metadata": {},
     "output_type": "display_data"
    },
    {
     "data": {
      "text/html": [
       "<pre>+-----------+----------+-----------+--------------+--------------------+---------------+</pre>"
      ],
      "text/plain": [
       "+-----------+----------+-----------+--------------+--------------------+---------------+"
      ]
     },
     "metadata": {},
     "output_type": "display_data"
    },
    {
     "data": {
      "text/html": [
       "<pre>Tuning step size. First iteration could take longer than subsequent iterations.</pre>"
      ],
      "text/plain": [
       "Tuning step size. First iteration could take longer than subsequent iterations."
      ]
     },
     "metadata": {},
     "output_type": "display_data"
    },
    {
     "data": {
      "text/html": [
       "<pre>| 1         | 2        | 0.000002  | 1.777819     | 6962915.603493     | 426631.749026 |</pre>"
      ],
      "text/plain": [
       "| 1         | 2        | 0.000002  | 1.777819     | 6962915.603493     | 426631.749026 |"
      ]
     },
     "metadata": {},
     "output_type": "display_data"
    },
    {
     "data": {
      "text/html": [
       "<pre>| 2         | 3        | 0.000002  | 1.915507     | 6843144.200219     | 392488.929838 |</pre>"
      ],
      "text/plain": [
       "| 2         | 3        | 0.000002  | 1.915507     | 6843144.200219     | 392488.929838 |"
      ]
     },
     "metadata": {},
     "output_type": "display_data"
    },
    {
     "data": {
      "text/html": [
       "<pre>| 3         | 4        | 0.000002  | 2.105861     | 6831900.032123     | 385340.166783 |</pre>"
      ],
      "text/plain": [
       "| 3         | 4        | 0.000002  | 2.105861     | 6831900.032123     | 385340.166783 |"
      ]
     },
     "metadata": {},
     "output_type": "display_data"
    },
    {
     "data": {
      "text/html": [
       "<pre>| 4         | 5        | 0.000002  | 2.233041     | 6847166.848958     | 384842.383767 |</pre>"
      ],
      "text/plain": [
       "| 4         | 5        | 0.000002  | 2.233041     | 6847166.848958     | 384842.383767 |"
      ]
     },
     "metadata": {},
     "output_type": "display_data"
    },
    {
     "data": {
      "text/html": [
       "<pre>| 5         | 6        | 0.000002  | 2.314040     | 6869667.895833     | 385998.458623 |</pre>"
      ],
      "text/plain": [
       "| 5         | 6        | 0.000002  | 2.314040     | 6869667.895833     | 385998.458623 |"
      ]
     },
     "metadata": {},
     "output_type": "display_data"
    },
    {
     "data": {
      "text/html": [
       "<pre>| 6         | 7        | 0.000002  | 2.399841     | 6847177.773672     | 380824.455891 |</pre>"
      ],
      "text/plain": [
       "| 6         | 7        | 0.000002  | 2.399841     | 6847177.773672     | 380824.455891 |"
      ]
     },
     "metadata": {},
     "output_type": "display_data"
    },
    {
     "data": {
      "text/html": [
       "<pre>| 10        | 11       | 0.000002  | 2.794201     | 6842123.232651     | 364204.576180 |</pre>"
      ],
      "text/plain": [
       "| 10        | 11       | 0.000002  | 2.794201     | 6842123.232651     | 364204.576180 |"
      ]
     },
     "metadata": {},
     "output_type": "display_data"
    },
    {
     "data": {
      "text/html": [
       "<pre>+-----------+----------+-----------+--------------+--------------------+---------------+</pre>"
      ],
      "text/plain": [
       "+-----------+----------+-----------+--------------+--------------------+---------------+"
      ]
     },
     "metadata": {},
     "output_type": "display_data"
    },
    {
     "data": {
      "text/html": [
       "<pre>TERMINATED: Iteration limit reached.</pre>"
      ],
      "text/plain": [
       "TERMINATED: Iteration limit reached."
      ]
     },
     "metadata": {},
     "output_type": "display_data"
    },
    {
     "data": {
      "text/html": [
       "<pre>This model may not be optimal. To improve it, consider increasing `max_iterations`.</pre>"
      ],
      "text/plain": [
       "This model may not be optimal. To improve it, consider increasing `max_iterations`."
      ]
     },
     "metadata": {},
     "output_type": "display_data"
    }
   ],
   "source": [
    "model_all = graphlab.linear_regression.create(sales, target='price', features=all_features,\n",
    "                                              validation_set=None, \n",
    "                                              l2_penalty=0., l1_penalty=1e10)"
   ]
  },
  {
   "cell_type": "markdown",
   "metadata": {},
   "source": [
    "Find what features had non-zero weight."
   ]
  },
  {
   "cell_type": "code",
   "execution_count": 10,
   "metadata": {
    "collapsed": false
   },
   "outputs": [
    {
     "name": "stdout",
     "output_type": "stream",
     "text": [
      "+------------------+-------+---------------+--------+\n",
      "|       name       | index |     value     | stderr |\n",
      "+------------------+-------+---------------+--------+\n",
      "|   (intercept)    |  None |  274873.05595 |  None  |\n",
      "|     bedrooms     |  None |      0.0      |  None  |\n",
      "| bedrooms_square  |  None |      0.0      |  None  |\n",
      "|    bathrooms     |  None | 8468.53108691 |  None  |\n",
      "|   sqft_living    |  None | 24.4207209824 |  None  |\n",
      "| sqft_living_sqrt |  None | 350.060553386 |  None  |\n",
      "|     sqft_lot     |  None |      0.0      |  None  |\n",
      "|  sqft_lot_sqrt   |  None |      0.0      |  None  |\n",
      "|      floors      |  None |      0.0      |  None  |\n",
      "|  floors_square   |  None |      0.0      |  None  |\n",
      "+------------------+-------+---------------+--------+\n",
      "[18 rows x 4 columns]\n",
      "Note: Only the head of the SFrame is printed.\n",
      "You can use print_rows(num_rows=m, num_columns=n) to print more rows and columns.\n"
     ]
    }
   ],
   "source": [
    "print(model_all.coefficients)"
   ]
  },
  {
   "cell_type": "markdown",
   "metadata": {},
   "source": [
    "Note that a majority of the weights have been set to zero. So by setting an L1 penalty that's large enough, we are performing a subset selection. \n",
    "\n",
    "***QUIZ QUESTION***:\n",
    "According to this list of weights, which of the features have been chosen? \n",
    "bathrooms,sqft_living, sqft_living_sqrt,\n"
   ]
  },
  {
   "cell_type": "markdown",
   "metadata": {},
   "source": [
    "# Selecting an L1 penalty"
   ]
  },
  {
   "cell_type": "markdown",
   "metadata": {},
   "source": [
    "To find a good L1 penalty, we will explore multiple values using a validation set. Let us do three way split into train, validation, and test sets:\n",
    "* Split our sales data into 2 sets: training and test\n",
    "* Further split our training data into two sets: train, validation\n",
    "\n",
    "Be *very* careful that you use seed = 1 to ensure you get the same answer!"
   ]
  },
  {
   "cell_type": "code",
   "execution_count": 11,
   "metadata": {
    "collapsed": true
   },
   "outputs": [],
   "source": [
    "(training_and_validation, testing) = sales.random_split(.9,seed=1) # initial train/test split\n",
    "(training, validation) = training_and_validation.random_split(0.5, seed=1) # split training into train and validate"
   ]
  },
  {
   "cell_type": "markdown",
   "metadata": {},
   "source": [
    "Next, we write a loop that does the following:\n",
    "* For `l1_penalty` in [10^1, 10^1.5, 10^2, 10^2.5, ..., 10^7] (to get this in Python, type `np.logspace(1, 7, num=13)`.)\n",
    "    * Fit a regression model with a given `l1_penalty` on TRAIN data. Specify `l1_penalty=l1_penalty` and `l2_penalty=0.` in the parameter list.\n",
    "    * Compute the RSS on VALIDATION data (here you will want to use `.predict()`) for that `l1_penalty`\n",
    "* Report which `l1_penalty` produced the lowest RSS on validation data.\n",
    "\n",
    "When you call `linear_regression.create()` make sure you set `validation_set = None`.\n",
    "\n",
    "Note: you can turn off the print out of `linear_regression.create()` with `verbose = False`"
   ]
  },
  {
   "cell_type": "code",
   "execution_count": 74,
   "metadata": {
    "collapsed": false
   },
   "outputs": [
    {
     "name": "stdout",
     "output_type": "stream",
     "text": [
      "L1_Penalty 10.0 , RSS = 6.25766285142e+14 none zeros 18\n",
      "L1_Penalty 31.6227766017 , RSS = 6.25766285362e+14 none zeros 18\n",
      "L1_Penalty 100.0 , RSS = 6.25766286058e+14 none zeros 18\n",
      "L1_Penalty 316.227766017 , RSS = 6.25766288257e+14 none zeros 18\n",
      "L1_Penalty 1000.0 , RSS = 6.25766295212e+14 none zeros 18\n",
      "L1_Penalty 3162.27766017 , RSS = 6.25766317206e+14 none zeros 18\n",
      "L1_Penalty 10000.0 , RSS = 6.25766386761e+14 none zeros 18\n",
      "L1_Penalty 31622.7766017 , RSS = 6.25766606749e+14 none zeros 18\n",
      "L1_Penalty 100000.0 , RSS = 6.25767302792e+14 none zeros 18\n",
      "L1_Penalty 316227.766017 , RSS = 6.25769507644e+14 none zeros 18\n",
      "L1_Penalty 1000000.0 , RSS = 6.25776517727e+14 none zeros 18\n",
      "L1_Penalty 3162277.66017 , RSS = 6.25799062845e+14 none zeros 18\n",
      "L1_Penalty 10000000.0 , RSS = 6.25883719085e+14 none zeros 18\n",
      "Done\n"
     ]
    }
   ],
   "source": [
    "import numpy as np\n",
    "lowest_rss = -1\n",
    "lowest_l1 = 0\n",
    "for l1 in np.logspace(1, 7, num=13) :\n",
    "    model = graphlab.linear_regression.create(training, target='price', features=all_features,validation_set=None, l1_penalty=l1, l2_penalty=0., verbose=False)\n",
    "    predictions = model.predict(validation)\n",
    "    diff = predictions - validation['price']\n",
    "    rss = diff.apply(lambda x : x ** 2)\n",
    "    rss = rss.sum()\n",
    "    if (lowest_rss == -1) :\n",
    "        lowest_rss = rss\n",
    "        lowest_l1 = l1\n",
    "    \n",
    "    coeff = model['coefficients']['value']\n",
    "    none_zeros = coeff.nnz()\n",
    "   \n",
    "    print (\"L1_Penalty \" + str(l1) + \" , RSS = \" + str(rss) + \" none zeros \" + str(none_zeros))\n",
    "    \n",
    "    if (rss < lowest_rss) :\n",
    "        lowest_rss = rss\n",
    "        lowest_l1 = l1\n",
    "print (\"Done\")    "
   ]
  },
  {
   "cell_type": "code",
   "execution_count": 76,
   "metadata": {
    "collapsed": false
   },
   "outputs": [
    {
     "name": "stdout",
     "output_type": "stream",
     "text": [
      "Lowest RSS 6.25766285142e+14 lowest penalty 10.0\n",
      "RSS on test 1.56972779669e+14\n"
     ]
    }
   ],
   "source": [
    "print (\"Lowest RSS \" + str(lowest_rss) + \" lowest penalty \" + str(lowest_l1))\n",
    "\n",
    "predictions = model.predict(testing)\n",
    "p = predictions - testing['price']\n",
    "rss = p.apply(lambda x : x ** 2)\n",
    "rss = rss.sum()\n",
    "\n",
    "print (\"RSS on test \" + str(rss))"
   ]
  },
  {
   "cell_type": "markdown",
   "metadata": {},
   "source": [
    "*** QUIZ QUESTIONS ***\n",
    "1. What was the best value for the `l1_penalty`? \n",
    "\n",
    "Lowest RSS 6.25766285142e+14 lowest penalty 10.0\n",
    "\n",
    "2. What is the RSS on TEST data of the model with the best `l1_penalty`?\n",
    "\n",
    "RSS on test 1.56972779669e+14"
   ]
  },
  {
   "cell_type": "code",
   "execution_count": null,
   "metadata": {
    "collapsed": false
   },
   "outputs": [],
   "source": []
  },
  {
   "cell_type": "markdown",
   "metadata": {},
   "source": [
    "***QUIZ QUESTION***\n",
    "Also, using this value of L1 penalty, how many nonzero weights do you have?\n",
    "18"
   ]
  },
  {
   "cell_type": "code",
   "execution_count": 55,
   "metadata": {
    "collapsed": false
   },
   "outputs": [
    {
     "name": "stdout",
     "output_type": "stream",
     "text": [
      "+------------------+-------+---------------+--------+\n",
      "|       name       | index |     value     | stderr |\n",
      "+------------------+-------+---------------+--------+\n",
      "|   (intercept)    |  None | 564482.136844 |  None  |\n",
      "|     bedrooms     |  None |      0.0      |  None  |\n",
      "| bedrooms_square  |  None |      0.0      |  None  |\n",
      "|    bathrooms     |  None |      0.0      |  None  |\n",
      "|   sqft_living    |  None |      0.0      |  None  |\n",
      "| sqft_living_sqrt |  None |      0.0      |  None  |\n",
      "|     sqft_lot     |  None |      0.0      |  None  |\n",
      "|  sqft_lot_sqrt   |  None |      0.0      |  None  |\n",
      "|      floors      |  None |      0.0      |  None  |\n",
      "|  floors_square   |  None |      0.0      |  None  |\n",
      "+------------------+-------+---------------+--------+\n",
      "[18 rows x 4 columns]\n",
      "Note: Only the head of the SFrame is printed.\n",
      "You can use print_rows(num_rows=m, num_columns=n) to print more rows and columns.\n",
      "Number of none zero coefficients = 1\n"
     ]
    }
   ],
   "source": []
  },
  {
   "cell_type": "markdown",
   "metadata": {},
   "source": [
    "# Limit the number of nonzero weights\n",
    "\n",
    "What if we absolutely wanted to limit ourselves to, say, 7 features? This may be important if we want to derive \"a rule of thumb\" --- an interpretable model that has only a few features in them."
   ]
  },
  {
   "cell_type": "markdown",
   "metadata": {},
   "source": [
    "In this section, you are going to implement a simple, two phase procedure to achive this goal:\n",
    "1. Explore a large range of `l1_penalty` values to find a narrow region of `l1_penalty` values where models are likely to have the desired number of non-zero weights.\n",
    "2. Further explore the narrow region you found to find a good value for `l1_penalty` that achieves the desired sparsity.  Here, we will again use a validation set to choose the best value for `l1_penalty`."
   ]
  },
  {
   "cell_type": "code",
   "execution_count": 57,
   "metadata": {
    "collapsed": true
   },
   "outputs": [],
   "source": [
    "max_nonzeros = 7"
   ]
  },
  {
   "cell_type": "markdown",
   "metadata": {},
   "source": [
    "## Exploring the larger range of values to find a narrow range with the desired sparsity\n",
    "\n",
    "Let's define a wide range of possible `l1_penalty_values`:"
   ]
  },
  {
   "cell_type": "code",
   "execution_count": 58,
   "metadata": {
    "collapsed": false
   },
   "outputs": [],
   "source": [
    "l1_penalty_values = np.logspace(8, 10, num=20)"
   ]
  },
  {
   "cell_type": "markdown",
   "metadata": {},
   "source": [
    "Now, implement a loop that search through this space of possible `l1_penalty` values:\n",
    "\n",
    "* For `l1_penalty` in `np.logspace(8, 10, num=20)`:\n",
    "    * Fit a regression model with a given `l1_penalty` on TRAIN data. Specify `l1_penalty=l1_penalty` and `l2_penalty=0.` in the parameter list. When you call `linear_regression.create()` make sure you set `validation_set = None`\n",
    "    * Extract the weights of the model and count the number of nonzeros. Save the number of nonzeros to a list.\n",
    "        * *Hint: `model['coefficients']['value']` gives you an SArray with the parameters you learned.  If you call the method `.nnz()` on it, you will find the number of non-zero parameters!* "
   ]
  },
  {
   "cell_type": "code",
   "execution_count": 59,
   "metadata": {
    "collapsed": false
   },
   "outputs": [
    {
     "name": "stdout",
     "output_type": "stream",
     "text": [
      "L1_Penalty 100000000.0 , RSS = 6.27492659875e+14\n",
      "Number of noze zero coefficients = 18\n",
      "L1_Penalty 127427498.57 , RSS = 6.28210516771e+14\n",
      "Number of noze zero coefficients = 18\n",
      "L1_Penalty 162377673.919 , RSS = 6.29176689541e+14\n",
      "Number of noze zero coefficients = 18\n",
      "L1_Penalty 206913808.111 , RSS = 6.30650082719e+14\n",
      "Number of noze zero coefficients = 18\n",
      "L1_Penalty 263665089.873 , RSS = 6.32940229287e+14\n",
      "Number of noze zero coefficients = 17\n",
      "L1_Penalty 335981828.628 , RSS = 6.3626814023e+14\n",
      "Number of noze zero coefficients = 17\n",
      "L1_Penalty 428133239.872 , RSS = 6.41261198311e+14\n",
      "Number of noze zero coefficients = 17\n",
      "L1_Penalty 545559478.117 , RSS = 6.48983455376e+14\n",
      "Number of noze zero coefficients = 17\n",
      "L1_Penalty 695192796.178 , RSS = 6.60962217696e+14\n",
      "Number of noze zero coefficients = 17\n",
      "L1_Penalty 885866790.41 , RSS = 6.77261520728e+14\n",
      "Number of noze zero coefficients = 16\n",
      "L1_Penalty 1128837891.68 , RSS = 7.01046815867e+14\n",
      "Number of noze zero coefficients = 15\n",
      "L1_Penalty 1438449888.29 , RSS = 7.37850622829e+14\n",
      "Number of noze zero coefficients = 15\n",
      "L1_Penalty 1832980710.83 , RSS = 7.9616310964e+14\n",
      "Number of noze zero coefficients = 13\n",
      "L1_Penalty 2335721469.09 , RSS = 8.69018172894e+14\n",
      "Number of noze zero coefficients = 12\n",
      "L1_Penalty 2976351441.63 , RSS = 9.66925692362e+14\n",
      "Number of noze zero coefficients = 10\n",
      "L1_Penalty 3792690190.73 , RSS = 1.08186759232e+15\n",
      "Number of noze zero coefficients = 6\n",
      "L1_Penalty 4832930238.57 , RSS = 1.24492736032e+15\n",
      "Number of noze zero coefficients = 5\n",
      "L1_Penalty 6158482110.66 , RSS = 1.38416149024e+15\n",
      "Number of noze zero coefficients = 3\n",
      "L1_Penalty 7847599703.51 , RSS = 1.23079472046e+15\n",
      "Number of noze zero coefficients = 1\n",
      "L1_Penalty 10000000000.0 , RSS = 1.22915716064e+15\n",
      "Number of noze zero coefficients = 1\n",
      "Done\n"
     ]
    }
   ],
   "source": [
    "import numpy as np\n",
    "lowest_rss = -1\n",
    "lowest_l1 = 0\n",
    "for l1 in np.logspace(8, 10, num=20) :\n",
    "    model = graphlab.linear_regression.create(training, target='price', features=all_features,validation_set=None, l1_penalty=l1, l2_penalty=0., verbose=False)\n",
    "    predictions = model.predict(validation)\n",
    "    diff = predictions - validation['price']\n",
    "    rss = diff.apply(lambda x : x ** 2)\n",
    "    rss = rss.sum()\n",
    "    if (lowest_rss == -1) :\n",
    "        lowest_rss = rss\n",
    "        lowest_l1 = l1\n",
    "    print (\"L1_Penalty \" + str(l1) + \" , RSS = \" + str(rss))\n",
    "    \n",
    "    if (rss < lowest_rss) :\n",
    "        lowest_rss = rss\n",
    "        lowest_l1 = l1\n",
    "    coeff = model['coefficients']['value']\n",
    "    print(\"Number of noze zero coefficients = \" + str (coeff.nnz()))\n",
    "        \n",
    "print (\"Done\")  "
   ]
  },
  {
   "cell_type": "markdown",
   "metadata": {},
   "source": [
    "Out of this large range, we want to find the two ends of our desired narrow range of `l1_penalty`.  At one end, we will have `l1_penalty` values that have too few non-zeros, and at the other end, we will have an `l1_penalty` that has too many non-zeros.  \n",
    "\n",
    "More formally, find:\n",
    "* The largest `l1_penalty` that has more non-zeros than `max_nonzero` (if we pick a penalty smaller than this value, we will definitely have too many non-zero weights)\n",
    "    * Store this value in the variable `l1_penalty_min` (we will use it later)\n",
    "* The smallest `l1_penalty` that has fewer non-zeros than `max_nonzero` (if we pick a penalty larger than this value, we will definitely have too few non-zero weights)\n",
    "    * Store this value in the variable `l1_penalty_max` (we will use it later)\n",
    "\n",
    "\n",
    "*Hint: there are many ways to do this, e.g.:*\n",
    "* Programmatically within the loop above\n",
    "* Creating a list with the number of non-zeros for each value of `l1_penalty` and inspecting it to find the appropriate boundaries."
   ]
  },
  {
   "cell_type": "code",
   "execution_count": 66,
   "metadata": {
    "collapsed": true
   },
   "outputs": [],
   "source": [
    "l1_penalty_min = 2976351441.63\n",
    "l1_penalty_max = 3792690190.73"
   ]
  },
  {
   "cell_type": "markdown",
   "metadata": {},
   "source": [
    "***QUIZ QUESTIONS***\n",
    "\n",
    "What values did you find for `l1_penalty_min` and`l1_penalty_max`? "
   ]
  },
  {
   "cell_type": "markdown",
   "metadata": {},
   "source": [
    "## Exploring the narrow range of values to find the solution with the right number of non-zeros that has lowest RSS on the validation set \n",
    "\n",
    "We will now explore the narrow region of `l1_penalty` values we found:"
   ]
  },
  {
   "cell_type": "code",
   "execution_count": 67,
   "metadata": {
    "collapsed": true
   },
   "outputs": [],
   "source": [
    "l1_penalty_values = np.linspace(l1_penalty_min,l1_penalty_max,20)"
   ]
  },
  {
   "cell_type": "markdown",
   "metadata": {},
   "source": [
    "* For `l1_penalty` in `np.linspace(l1_penalty_min,l1_penalty_max,20)`:\n",
    "    * Fit a regression model with a given `l1_penalty` on TRAIN data. Specify `l1_penalty=l1_penalty` and `l2_penalty=0.` in the parameter list. When you call `linear_regression.create()` make sure you set `validation_set = None`\n",
    "    * Measure the RSS of the learned model on the VALIDATION set\n",
    "\n",
    "Find the model that the lowest RSS on the VALIDATION set and has sparsity *equal* to `max_nonzero`."
   ]
  },
  {
   "cell_type": "code",
   "execution_count": 73,
   "metadata": {
    "collapsed": false
   },
   "outputs": [
    {
     "name": "stdout",
     "output_type": "stream",
     "text": [
      "L1_Penalty 2976351441.63 , RSS = 9.66925692362e+14, none zero 10\n",
      "L1_Penalty 3019316638.95 , RSS = 9.74019450085e+14, none zero 10\n",
      "L1_Penalty 3062281836.27 , RSS = 9.81188367942e+14, none zero 10\n",
      "L1_Penalty 3105247033.59 , RSS = 9.89328342459e+14, none zero 10\n",
      "L1_Penalty 3148212230.91 , RSS = 9.98783211266e+14, none zero 10\n",
      "L1_Penalty 3191177428.24 , RSS = 1.00847716702e+15, none zero 10\n",
      "L1_Penalty 3234142625.56 , RSS = 1.01829878055e+15, none zero 10\n",
      "L1_Penalty 3277107822.88 , RSS = 1.02824799221e+15, none zero 10\n",
      "L1_Penalty 3320073020.2 , RSS = 1.03461690923e+15, none zero 8\n",
      "L1_Penalty 3363038217.52 , RSS = 1.03855473594e+15, none zero 8\n",
      "L1_Penalty 3406003414.84 , RSS = 1.04323723787e+15, none zero 8\n",
      "L1_Penalty 3448968612.16 , RSS = 1.04693748875e+15, none zero 7\n",
      "L1_Penalty 3491933809.48 , RSS = 1.05114762561e+15, none zero 7\n",
      "L1_Penalty 3534899006.8 , RSS = 1.05599273534e+15, none zero 7\n",
      "L1_Penalty 3577864204.12 , RSS = 1.06079953176e+15, none zero 7\n",
      "L1_Penalty 3620829401.45 , RSS = 1.0657076895e+15, none zero 6\n",
      "L1_Penalty 3663794598.77 , RSS = 1.06946433543e+15, none zero 6\n",
      "L1_Penalty 3706759796.09 , RSS = 1.07350454959e+15, none zero 6\n",
      "L1_Penalty 3749724993.41 , RSS = 1.07763277558e+15, none zero 6\n",
      "L1_Penalty 3792690190.73 , RSS = 1.08186759232e+15, none zero 6\n",
      "Done\n"
     ]
    }
   ],
   "source": [
    "import numpy as np\n",
    "lowest_rss = -1\n",
    "lowest_l1 = 0\n",
    "for l1 in np.linspace(l1_penalty_min,l1_penalty_max,20) :\n",
    "    model = graphlab.linear_regression.create(training, target='price', features=all_features,validation_set=None, l1_penalty=l1, l2_penalty=0., verbose=False)\n",
    "    predictions = model.predict(validation)\n",
    "    diff = predictions - validation['price']\n",
    "    rss = diff.apply(lambda x : x ** 2)\n",
    "    rss = rss.sum()\n",
    "   \n",
    "    coeff = model['coefficients']['value']\n",
    "    none_zeros = coeff.nnz()\n",
    "    \n",
    "    if (lowest_rss == -1 and none_zeros == max_nonzeros) :\n",
    "        lowest_rss = rss\n",
    "        lowest_l1 = l1\n",
    "   \n",
    "    print (\"L1_Penalty \" + str(l1) + \" , RSS = \" + str(rss) + \", none zero \" + str (none_zeros))\n",
    "    \n",
    "    if (rss < lowest_rss and none_zeros == max_nonzeros) :\n",
    "        lowest_rss = rss\n",
    "        lowest_l1 = l1\n",
    "        \n",
    "print (\"Done\")  \n"
   ]
  },
  {
   "cell_type": "markdown",
   "metadata": {},
   "source": [
    "***QUIZ QUESTIONS***\n",
    "1. What value of `l1_penalty` in our narrow range has the lowest RSS on the VALIDATION set and has sparsity *equal* to `max_nonzeros`?\n",
    "2. What features in this model have non-zero coefficients?"
   ]
  },
  {
   "cell_type": "code",
   "execution_count": 72,
   "metadata": {
    "collapsed": false
   },
   "outputs": [
    {
     "name": "stdout",
     "output_type": "stream",
     "text": [
      "Lowest RSS 1.04693748875e+15 lowest penalty 3448968612.16\n",
      "RSS on test 2.5125896725e+14\n"
     ]
    }
   ],
   "source": [
    "print (\"Lowest RSS \" + str(lowest_rss) + \" lowest penalty \" + str(lowest_l1))\n",
    "\n",
    "predictions = model.predict(testing)\n",
    "p = predictions - testing['price']\n",
    "rss = p.apply(lambda x : x ** 2)\n",
    "rss = rss.sum()\n",
    "\n",
    "print (\"RSS on test \" + str(rss))"
   ]
  },
  {
   "cell_type": "code",
   "execution_count": null,
   "metadata": {
    "collapsed": true
   },
   "outputs": [],
   "source": []
  }
 ],
 "metadata": {
  "kernelspec": {
   "display_name": "Python 2",
   "language": "python",
   "name": "python2"
  },
  "language_info": {
   "codemirror_mode": {
    "name": "ipython",
    "version": 2
   },
   "file_extension": ".py",
   "mimetype": "text/x-python",
   "name": "python",
   "nbconvert_exporter": "python",
   "pygments_lexer": "ipython2",
   "version": "2.7.11"
  }
 },
 "nbformat": 4,
 "nbformat_minor": 0
}
